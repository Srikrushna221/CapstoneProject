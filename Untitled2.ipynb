{
  "nbformat": 4,
  "nbformat_minor": 0,
  "metadata": {
    "colab": {
      "name": "Untitled2.ipynb",
      "provenance": []
    },
    "kernelspec": {
      "name": "python3",
      "display_name": "Python 3"
    }
  },
  "cells": [
    {
      "cell_type": "markdown",
      "metadata": {
        "id": "o4cF4rvGE9cY",
        "colab_type": "text"
      },
      "source": [
        "## Capstone Project - The Battle of the Neighborhoods week 1\n",
        "### Applied Data Science Capstone by IBM/Coursera\n"
      ]
    },
    {
      "cell_type": "markdown",
      "metadata": {
        "id": "92Xquyk9E9cb",
        "colab_type": "text"
      },
      "source": [
        "## Introduction: Business Problem <a name=\"introduction\"></a>"
      ]
    },
    {
      "cell_type": "markdown",
      "metadata": {
        "id": "zVrAf493E9cc",
        "colab_type": "text"
      },
      "source": [
        "This project aims to select the safest borough in London based on the **total crimes**, explore the **neighborhoods** of that borough to find the **10 most common venues** in each neighborhood and finally cluster the neighborhoods using **k-mean clustering**.\n",
        "\n",
        "This report will be targeted to people who are looking to **relocate to London**. Inorder to finalise a neighborhood to hunt for an apartment, **safety** is considered as a top concern when moving to a new place. If you don’t feel safe in your own home, you’re not going to be able to enjoy living there. The **crime statistics** will provide an insight into this issue.\n",
        "\n",
        "We will focus on the safest borough and explore its neighborhoods and the 10 most common venues in each neighborhood so that the best neighborhood suited to an individual's needs can be selected."
      ]
    },
    {
      "cell_type": "markdown",
      "metadata": {
        "id": "BKtmiJHwE9cd",
        "colab_type": "text"
      },
      "source": [
        "## Data <a name=\"data\"></a>\n",
        "\n",
        "Based on definition of our problem, factors that will influence our decision are:\n",
        "* The total number of crimes commited in each of the borough during the last year.\n",
        "* The most common venues in each of the neighborhood in the safest borough selected.\n",
        "\n",
        "Following data sources will be needed to extract/generate the required information:\n",
        "\n",
        "- [**Part 1**: Preprocessing a real world data set from Kaggle showing the London Crimes from 2008 to 2016](#part1):  A dataset consisting of the crime statistics of each borough in London obtained from Kaggle\n",
        "- [**Part 2**: Scraping additional information of the different Boroughs in London from a Wikipedia page.](#part2): More information regarding the boroughs of London is scraped using the Beautifulsoup library\n",
        "- [**Part 3**: Creating a new dataset of the Neighborhoods of the safest borough in London and generating their co-ordinates.](#part3): Co-ordinate of neighborhood will be obtained using **Google Maps API geocoding**\n"
      ]
    },
    {
      "cell_type": "markdown",
      "metadata": {
        "id": "HLjod0BfE9gK",
        "colab_type": "text"
      },
      "source": [
        "## Results and Discussion <a name=\"results\"></a>"
      ]
    },
    {
      "cell_type": "markdown",
      "metadata": {
        "id": "wz692IeME9gK",
        "colab_type": "text"
      },
      "source": [
        "The aim of this project is to help people who want to relocate to the safest borough in London, expats can chose the neighborhoods to which they want to relocate based on the most common venues in it. For example if a person is looking for a neighborhood with good connectivity and public transportation we can see that Clusters 3 and 4 have Train stations and Bus stops as the most common venues. If a person is looking for a neighborhood with stores and restaurants in a close proximity then the neighborhoods in the first cluster is suitable. For a family I feel that the neighborhoods in Cluster 4 are more suitable dues to the common venues in that cluster, these neighborhoods have common venues such as Parks, Gym/Fitness centers, Bus Stops, Restaurants, Electronics Stores and Soccer fields which is ideal for a family. "
      ]
    }
  ]
}